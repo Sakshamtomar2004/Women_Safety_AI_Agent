{
 "cells": [
  {
   "cell_type": "code",
   "execution_count": null,
   "id": "b0ea8926",
   "metadata": {},
   "outputs": [],
   "source": []
  },
  {
   "cell_type": "code",
   "execution_count": null,
   "id": "3b8998b9",
   "metadata": {},
   "outputs": [],
   "source": []
  },
  {
   "cell_type": "code",
   "execution_count": 8,
   "id": "977c557c",
   "metadata": {},
   "outputs": [
    {
     "data": {
      "text/plain": [
       "True"
      ]
     },
     "execution_count": 8,
     "metadata": {},
     "output_type": "execute_result"
    }
   ],
   "source": [
    "import os\n",
    "import asyncio\n",
    "import threading\n",
    "import time\n",
    "import base64\n",
    "from datetime import datetime, timedelta\n",
    "from datetime import time\n",
    "from typing import List, Dict, Any, Optional\n",
    "import sqlite3\n",
    "from contextlib import asynccontextmanager\n",
    "import json\n",
    "from fastapi.responses import FileResponse\n",
    "\n",
    "\n",
    "from fastapi import FastAPI, HTTPException, BackgroundTasks, Depends, File, UploadFile, Form\n",
    "from fastapi.middleware.cors import CORSMiddleware\n",
    "from pydantic import BaseModel, Field, validator\n",
    "from dotenv import load_dotenv\n",
    "import uvicorn\n",
    "#from playsound import playsound\n",
    "import io\n",
    "\n",
    "# LangGraph and LangChain imports\n",
    "from langgraph.graph import StateGraph, END, START\n",
    "from langchain_core.messages import HumanMessage\n",
    "from langchain_groq import ChatGroq\n",
    "from fastapi.staticfiles import StaticFiles \n",
    "from typing import TypedDict,Annotated,Literal\n",
    "from langchain.prompts import PromptTemplate\n",
    "\n",
    "import nest_asyncio\n",
    "nest_asyncio.apply()\n",
    "\n",
    "# Load environment variables\n",
    "load_dotenv()"
   ]
  },
  {
   "cell_type": "markdown",
   "id": "74db4059",
   "metadata": {},
   "source": [
    "We are going to Define States"
   ]
  },
  {
   "cell_type": "code",
   "execution_count": 9,
   "id": "a6ed1df3",
   "metadata": {},
   "outputs": [
    {
     "name": "stderr",
     "output_type": "stream",
     "text": [
      "C:\\Users\\asus\\AppData\\Local\\Temp\\ipykernel_12104\\1250525760.py:6: PydanticDeprecatedSince20: Pydantic V1 style `@validator` validators are deprecated. You should migrate to Pydantic V2 style `@field_validator` validators, see the migration guide for more details. Deprecated in Pydantic V2.0 to be removed in V3.0. See Pydantic V2 Migration Guide at https://errors.pydantic.dev/2.11/migration/\n",
      "  @validator(\"latitude\", \"longitude\", pre=True)\n"
     ]
    }
   ],
   "source": [
    "class Location(BaseModel):\n",
    "    latitude:  float = Field(..., ge=-90.0, le=90.0, description=\"Degrees north or south of the equator\")\n",
    "    longitude: float = Field(..., ge=-180.0, le=180.0, description=\"Degrees east or west of prime meridian\")\n",
    "\n",
    "    # Optional: custom string pattern instead of float\n",
    "    @validator(\"latitude\", \"longitude\", pre=True)\n",
    "    def parse_str_to_float(cls, v):\n",
    "        # Allow passing \"12.345\" or 12.345\n",
    "        return float(v)\n"
   ]
  },
  {
   "cell_type": "code",
   "execution_count": 10,
   "id": "eb7fb927",
   "metadata": {},
   "outputs": [],
   "source": [
    "class Summarization(BaseModel):\n",
    "    summary: str\n",
    "    location: Location\n",
    "    time: datetime\n",
    "    distress_words: List[str]\n",
    "    threat_level: float\n"
   ]
  },
  {
   "cell_type": "code",
   "execution_count": 11,
   "id": "5bafce81",
   "metadata": {},
   "outputs": [],
   "source": [
    "class WorkflowState(BaseModel):\n",
    "    location:    Location\n",
    "    real_time:   str\n",
    "    TAudio:      str | None\n",
    "    threat_score:float\n",
    "    consent:     Literal[\"Yes\", \"No\"]\n",
    "    gesture:     Literal[\"Yes\", \"No\"]\n",
    "    sudden_acc:  Literal[\"Yes\", \"No\"]\n",
    "    message:str\n",
    "    analysis: Optional[Summarization] = None\n"
   ]
  },
  {
   "cell_type": "markdown",
   "id": "adb2aa0b",
   "metadata": {},
   "source": [
    "Just an Example"
   ]
  },
  {
   "cell_type": "code",
   "execution_count": null,
   "id": "e331ba53",
   "metadata": {},
   "outputs": [],
   "source": []
  },
  {
   "cell_type": "code",
   "execution_count": null,
   "id": "0dd8fbfc",
   "metadata": {},
   "outputs": [],
   "source": []
  },
  {
   "cell_type": "markdown",
   "id": "962ad31b",
   "metadata": {},
   "source": [
    "Defining_A_Node for threat analysis"
   ]
  },
  {
   "cell_type": "code",
   "execution_count": null,
   "id": "4049b264",
   "metadata": {},
   "outputs": [],
   "source": []
  },
  {
   "cell_type": "code",
   "execution_count": null,
   "id": "aff97c3e",
   "metadata": {},
   "outputs": [],
   "source": []
  },
  {
   "cell_type": "code",
   "execution_count": 12,
   "id": "116b1416",
   "metadata": {},
   "outputs": [],
   "source": [
    "class Workflow:\n",
    "    def __init__(self):\n",
    "        self.llm = ChatGroq(\n",
    "            model=\"openai/gpt-oss-120b\",  # Using available model\n",
    "            temperature=0.1,\n",
    "        )\n",
    "\n",
    "        self.template1 = \"\"\"\n",
    "You are an AI Assistant who is specially designed to analyse the transcripted audio file which is received from the phone of a woman who might get harassed at {real_time}. You have to generate a threat level between 5 to 10 based on the following transcript. If this prompt is running which exclusively means that there is night time and user input already a dangerous place:\n",
    "\n",
    "Audio Transcript: {TAudio}\n",
    "\n",
    "Remember:\n",
    "Provide high rating if you found some distress sentences like \"don't touch me\", \"I will complain about you\", \"Please don't do this to me\"... and many other distress sentences.\n",
    "\n",
    "Return your response in the exact JSON format:\n",
    "{{\n",
    "    \"summary\": \"Provide a proper summary for the event\",\n",
    "    \"threat_level\":5.0-10.0,\n",
    "    \"distress_words\": [\"list\", \"of\", \"distress\", \"words\"]\n",
    "}}\n",
    "\"\"\"\n",
    "\n",
    "        self.template2 = \"\"\"\n",
    "You are an AI Assistant who is specially designed to analyse the transcripted audio file which is received from the phone of a woman who is not around the peak night time. You have to generate a threat level between 4 to 10 based on the following transcript and since some relaxation would be there as this is not night time. Thus, threat level could be low but provide high level if you hear serious distress words that you think might lead something dangerous to the woman:\n",
    "\n",
    "Audio Transcript: {TAudio}\n",
    "\n",
    "Remember:\n",
    "Provide high rating if you found some distress sentences like \"don't touch me\", \"I will complain about you\", \"Please don't do this to me\"... and many other distress sentences.\n",
    "\n",
    "Return your response in the exact JSON format:\n",
    "{{\n",
    "    \"summary\": \"Provide a proper summary for the event\",\n",
    "    \"threat_level\": 4.0-8.0,\n",
    "    \"distress_words\": [\"list\", \"of\", \"distress\", \"words\"]\n",
    "}}\n",
    "\"\"\"\n",
    "\n",
    "    async def Analysis_Node(self, state: WorkflowState):\n",
    "        night_start = time(0, 0)    # 00:00 (12:00 AM)\n",
    "        night_end = time(4, 0)\n",
    "        timestamp = datetime.fromisoformat(state.real_time)      # 04:00 (4:00 AM)\n",
    "\n",
    "        if (\n",
    "            state.consent == 'No'\n",
    "            and not (night_start <= timestamp.time() <= night_end)\n",
    "            and state.gesture == 'No'\n",
    "            and state.sudden_acc == 'No'\n",
    "        ):\n",
    "            return 'END'\n",
    "\n",
    "        # Use the correct template based on night time\n",
    "        if night_start <= timestamp.time() <= night_end:\n",
    "            template = self.template1\n",
    "        else:\n",
    "            template = self.template2\n",
    "\n",
    "        prompt = PromptTemplate(\n",
    "            input_variables=['real_time', 'TAudio'],\n",
    "            template=template\n",
    "        )\n",
    "\n",
    "        response = await self.llm.ainvoke(prompt.format(\n",
    "            real_time=state.real_time,\n",
    "            TAudio=state.TAudio\n",
    "        ))\n",
    "\n",
    "        try:\n",
    "            result = json.loads(response.content)\n",
    "            obj = Summarization(\n",
    "            location=state.location,\n",
    "             time=state.real_time,            # Pydantic will parse ISO string to datetime\n",
    "            summary=result[\"summary\"],\n",
    "            threat_level=result[\"threat_level\"],\n",
    "            distress_words=result[\"distress_words\"],\n",
    "    )\n",
    "            \n",
    "            return {\"analysis\": obj} \n",
    "        except Exception as e:\n",
    "            return Summarization(\n",
    "                location=state.location,\n",
    "                summary=f\"Groq API error: {str(e)}\",\n",
    "                time=state.real_time,\n",
    "                distress_words=[],\n",
    "                threat_level=0.0\n",
    "            )\n",
    "\n",
    "    async def Flow(self):\n",
    "        workflow = StateGraph(WorkflowState)\n",
    "        # Adding the Nodes\n",
    "        workflow.add_node(\"Analysis\", self.Analysis_Node)\n",
    "        workflow.set_entry_point(\"Analysis\")\n",
    "        workflow.add_edge(\"Analysis\", END)\n",
    "        return workflow.compile()"
   ]
  },
  {
   "cell_type": "code",
   "execution_count": 15,
   "id": "dfe4c8ae",
   "metadata": {},
   "outputs": [
    {
     "name": "stdout",
     "output_type": "stream",
     "text": [
      "<class 'dict'>\n",
      "summary='A woman is being pursued and verbally harassed by an unknown individual. She repeatedly pleads for the person to stop, asks for help, threatens to call the police, and expresses fear of being touched or harmed.' location=Location(latitude=12.9716, longitude=77.5946) time=datetime.datetime(2025, 8, 18, 19, 29) distress_words=['stop following me', \"don't touch me\", 'help', 'someone help me', 'I will call the police', \"please don't hurt me\", \"I haven't done anything\"] threat_level=7.8\n"
     ]
    }
   ],
   "source": [
    "async def main():\n",
    "    # Create workflow instance\n",
    "    workflow_instance = Workflow()\n",
    "    app = await workflow_instance.Flow()\n",
    "    \n",
    "    # Dummy distress conversation transcript\n",
    "    distress_transcript = \"\"\"\n",
    "    Woman: \"Please stop following me, I don't know you\"\n",
    "    Unknown person: \"Come on, don't be like that\"\n",
    "    Woman: \"Don't touch me! Leave me alone!\"\n",
    "    Unknown person: \"Just talk to me for a minute\"\n",
    "    Woman: \"Help! Someone help me! Don't do this to me!\"\n",
    "    Woman: \"I will call the police if you don't stop\"\n",
    "    Unknown person: \"Nobody can hear you here\"\n",
    "    Woman: \"Please don't hurt me, I haven't done anything\"\n",
    "    \"\"\"\n",
    "    \n",
    "    # Create input state with all required fields\n",
    "    input_state = WorkflowState(\n",
    "        location=Location(latitude=12.9716, longitude=77.5946),  # Bangalore coordinates\n",
    "        real_time=\"2025-08-18T19:29:00\",  # 2:30 AM (night time)\n",
    "        TAudio=distress_transcript,\n",
    "        threat_score=0,\n",
    "        consent=\"Yes\",\n",
    "        gesture=\"Yes\", \n",
    "        sudden_acc=\"Yes\",\n",
    "        message=\"Dangerous\"\n",
    "    )\n",
    "    \n",
    "    # Run the workflow\n",
    "    result = await app.ainvoke(input_state)\n",
    "\n",
    "    print(type(result))\n",
    "    print(result['analysis'])\n",
    "   \n",
    "\n",
    "    \n",
    "# Run the workflow\n",
    "if __name__ == \"__main__\":\n",
    "    await main()\n"
   ]
  },
  {
   "cell_type": "code",
   "execution_count": null,
   "id": "0adc0fef",
   "metadata": {},
   "outputs": [],
   "source": []
  },
  {
   "cell_type": "code",
   "execution_count": null,
   "id": "a44e3906",
   "metadata": {},
   "outputs": [],
   "source": []
  },
  {
   "cell_type": "code",
   "execution_count": null,
   "id": "6b020fff",
   "metadata": {},
   "outputs": [],
   "source": []
  }
 ],
 "metadata": {
  "kernelspec": {
   "display_name": "venv",
   "language": "python",
   "name": "python3"
  },
  "language_info": {
   "codemirror_mode": {
    "name": "ipython",
    "version": 3
   },
   "file_extension": ".py",
   "mimetype": "text/x-python",
   "name": "python",
   "nbconvert_exporter": "python",
   "pygments_lexer": "ipython3",
   "version": "3.13.5"
  }
 },
 "nbformat": 4,
 "nbformat_minor": 5
}
