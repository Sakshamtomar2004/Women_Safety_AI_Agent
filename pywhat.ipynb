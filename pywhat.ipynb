{
 "cells": [
  {
   "cell_type": "code",
   "execution_count": 5,
   "id": "14747cc0",
   "metadata": {},
   "outputs": [
    {
     "name": "stdout",
     "output_type": "stream",
     "text": [
      "Message sent! SID: SM92698084f2a716ef34677421ebff51da\n",
      "Message body: Hello from Twilio! This is a custom message.\n"
     ]
    }
   ],
   "source": [
    "import os\n",
    "from twilio.rest import Client\n",
    "\n",
    "# Initialize client\n",
    "account_sid = os.environ[\"TWILIO_ACCOUNT_SID\"]\n",
    "auth_token = os.environ[\"TWILIO_AUTH_TOKEN\"]\n",
    "client = Client(account_sid, auth_token)\n",
    "\n",
    "# Send custom message\n",
    "message = client.messages.create(\n",
    "    from_=\"whatsapp:+14155238886\",\n",
    "    to=\"whatsapp:919410046073\",\n",
    "    body=\"Hello from Twilio! This is a custom message.\"\n",
    ")\n",
    "\n",
    "print(f\"Message sent! SID: {message.sid}\")\n",
    "print(f\"Message body: {message.body}\")\n"
   ]
  },
  {
   "cell_type": "code",
   "execution_count": 1,
   "id": "760ce107",
   "metadata": {},
   "outputs": [
    {
     "name": "stdout",
     "output_type": "stream",
     "text": [
      "✅ Message sent successfully! SID: SM767cb97cc2596d18a594193a3055a19e\n"
     ]
    }
   ],
   "source": [
    "import os\n",
    "from twilio.rest import Client\n",
    "from twilio.base.exceptions import TwilioException\n",
    "\n",
    "def send_whatsapp_message(to_number, message_body):\n",
    "    try:\n",
    "        account_sid = os.environ[\"TWILIO_ACCOUNT_SID\"]\n",
    "        auth_token = os.environ[\"TWILIO_AUTH_TOKEN\"]\n",
    "        client = Client(account_sid, auth_token)\n",
    "        \n",
    "        message = client.messages.create(\n",
    "            from_=\"whatsapp:+14155238886\",\n",
    "            to=f\"whatsapp:{to_number}\",\n",
    "            body=message_body\n",
    "        )\n",
    "        \n",
    "        print(f\"✅ Message sent successfully! SID: {message.sid}\")\n",
    "        return True\n",
    "        \n",
    "    except TwilioException as e:\n",
    "        print(f\"❌ Twilio error: {e}\")\n",
    "        return False\n",
    "    except Exception as e:\n",
    "        print(f\"❌ General error: {e}\")\n",
    "        return False\n",
    "                                                             \n",
    "# Usage\n",
    "success = send_whatsapp_message(\"+919410046073\",{\n",
    "    'real_time': '2025-08-19 15:00:00',\n",
    "    'location': 'Delhi',\n",
    "    'summary': 'Suspicious activity',\n",
    "    'threat_level': 0.85\n",
    "})\n"
   ]
  },
  {
   "cell_type": "code",
   "execution_count": 3,
   "id": "ef3f96d5",
   "metadata": {},
   "outputs": [
    {
     "name": "stdout",
     "output_type": "stream",
     "text": [
      "✅ Message sent successfully! SID: SM5eafa159ac994a22a95930db05053459\n"
     ]
    }
   ],
   "source": [
    "import json\n",
    "body = json.dumps({\n",
    "    'real_time': '2025-08-19 15:00:00',\n",
    "    'location': 'Delhi',\n",
    "    'summary': 'Suspicious activity',\n",
    "    'threat_level': 0.85\n",
    "})\n",
    "success = send_whatsapp_message(\"+919410046073\", body)\n"
   ]
  },
  {
   "cell_type": "code",
   "execution_count": null,
   "id": "51e7d9ca",
   "metadata": {},
   "outputs": [],
   "source": []
  }
 ],
 "metadata": {
  "kernelspec": {
   "display_name": "venv",
   "language": "python",
   "name": "python3"
  },
  "language_info": {
   "codemirror_mode": {
    "name": "ipython",
    "version": 3
   },
   "file_extension": ".py",
   "mimetype": "text/x-python",
   "name": "python",
   "nbconvert_exporter": "python",
   "pygments_lexer": "ipython3",
   "version": "3.13.5"
  }
 },
 "nbformat": 4,
 "nbformat_minor": 5
}
