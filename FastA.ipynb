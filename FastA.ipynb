{
 "cells": [
  {
   "cell_type": "code",
   "execution_count": 42,
   "id": "9c7b57cd",
   "metadata": {},
   "outputs": [],
   "source": [
    "from fastapi import FastAPI, Path, HTTPException, Query\n",
    "from fastapi.responses import JSONResponse\n",
    "from pydantic import BaseModel, Field, computed_field\n",
    "from typing import Annotated, Literal, Optional\n",
    "import json\n",
    "\n",
    "app = FastAPI()\n"
   ]
  },
  {
   "cell_type": "code",
   "execution_count": 43,
   "id": "d3fdf104",
   "metadata": {},
   "outputs": [],
   "source": [
    "class Patient(BaseModel):\n",
    "\n",
    "    id: Annotated[str, Field(..., description='ID of the patient', examples=['P001'])]\n",
    "    name: Annotated[str, Field(..., description='Name of the patient')]\n",
    "    city: Annotated[str, Field(..., description='City where the patient is living')]\n",
    "    age: Annotated[int, Field(..., gt=0, lt=120, description='Age of the patient')]\n",
    "    gender: Annotated[Literal['male', 'female', 'others'], Field(..., description='Gender of the patient')]\n",
    "    height: Annotated[float, Field(..., gt=0, description='Height of the patient in mtrs')]\n",
    "    weight: Annotated[float, Field(..., gt=0, description='Weight of the patient in kgs')]\n",
    "\n",
    "    @computed_field\n",
    "    @property\n",
    "    def bmi(self) -> float:\n",
    "        bmi = round(self.weight/(self.height**2),2)\n",
    "        return bmi\n",
    "    \n",
    "    @computed_field\n",
    "    @property\n",
    "    def verdict(self) -> str:\n",
    "\n",
    "        if self.bmi < 18.5:\n",
    "            return 'Underweight'\n",
    "        elif self.bmi < 25:\n",
    "            return 'Normal'\n",
    "        elif self.bmi < 30:\n",
    "            return 'Normal'\n",
    "        else:\n",
    "            return 'Obese'\n"
   ]
  },
  {
   "cell_type": "code",
   "execution_count": 44,
   "id": "9ba63847",
   "metadata": {},
   "outputs": [],
   "source": [
    "def load_data():\n",
    "    with open('patients.json', 'r') as f:\n",
    "        data = json.load(f)\n",
    "\n",
    "    return data\n",
    "\n",
    "def save_data(data):\n",
    "    with open('patients.json', 'w') as f:\n",
    "        json.dump(data, f)"
   ]
  },
  {
   "cell_type": "code",
   "execution_count": 45,
   "id": "5bf5d2a6",
   "metadata": {},
   "outputs": [
    {
     "data": {
      "text/plain": [
       "{'P001': {'name': 'Ananya Verma',\n",
       "  'city': 'Guwahati',\n",
       "  'age': 28,\n",
       "  'gender': 'female',\n",
       "  'height': 1.65,\n",
       "  'weight': 90.0,\n",
       "  'bmi': 33.06,\n",
       "  'verdict': 'Obese'},\n",
       " 'P002': {'name': 'Ravi Mehta',\n",
       "  'city': 'Mumbai',\n",
       "  'age': 35,\n",
       "  'gender': 'male',\n",
       "  'height': 1.75,\n",
       "  'weight': 85,\n",
       "  'bmi': 27.76,\n",
       "  'verdict': 'Overweight'},\n",
       " 'P003': {'name': 'Sneha Kulkarni',\n",
       "  'city': 'Pune',\n",
       "  'age': 22,\n",
       "  'gender': 'female',\n",
       "  'height': 1.6,\n",
       "  'weight': 45,\n",
       "  'bmi': 17.58,\n",
       "  'verdict': 'Underweight'},\n",
       " 'P004': {'name': 'Arjun Verma',\n",
       "  'city': 'Mumbai',\n",
       "  'age': 40,\n",
       "  'gender': 'male',\n",
       "  'height': 1.8,\n",
       "  'weight': 90.0,\n",
       "  'bmi': 27.78,\n",
       "  'verdict': 'Normal'},\n",
       " 'P005': {'name': 'Neha Sinha',\n",
       "  'city': 'Kolkata',\n",
       "  'age': 30,\n",
       "  'gender': 'female',\n",
       "  'height': 1.55,\n",
       "  'weight': 75,\n",
       "  'bmi': 31.22,\n",
       "  'verdict': 'Obese'}}"
      ]
     },
     "execution_count": 45,
     "metadata": {},
     "output_type": "execute_result"
    }
   ],
   "source": [
    "load_data()"
   ]
  },
  {
   "cell_type": "code",
   "execution_count": 46,
   "id": "2315730c",
   "metadata": {},
   "outputs": [],
   "source": [
    "@app.get(\"/\")\n",
    "def hello():\n",
    "    return {'message':'Patient Management System API'}\n"
   ]
  },
  {
   "cell_type": "code",
   "execution_count": 47,
   "id": "794e1ede",
   "metadata": {},
   "outputs": [],
   "source": [
    "a={\n",
    "    'Ram':'20',\n",
    "    'Vinod':'30'\n",
    "}"
   ]
  },
  {
   "cell_type": "code",
   "execution_count": 48,
   "id": "1cf359ef",
   "metadata": {},
   "outputs": [
    {
     "name": "stdout",
     "output_type": "stream",
     "text": [
      "Ram -> 20\n",
      "Vinod -> 30\n"
     ]
    }
   ],
   "source": [
    "for key,value in a.items():\n",
    "    print(key,\"->\",value)"
   ]
  },
  {
   "cell_type": "code",
   "execution_count": 49,
   "id": "e3980183",
   "metadata": {},
   "outputs": [
    {
     "data": {
      "text/plain": [
       "'20'"
      ]
     },
     "execution_count": 49,
     "metadata": {},
     "output_type": "execute_result"
    }
   ],
   "source": [
    "a[\"Ram\"]"
   ]
  },
  {
   "cell_type": "code",
   "execution_count": 50,
   "id": "4cb5fa53",
   "metadata": {},
   "outputs": [],
   "source": [
    "@app.get('/patient/{patient_id}')\n",
    "def view_patient(patient_id: str = Path(..., description='ID of the patient in the DB', examples='P001')):\n",
    "    # load all the patients\n",
    "    data = load_data()\n",
    "\n",
    "    if patient_id in data:\n",
    "        return data[patient_id]\n",
    "    raise HTTPException(status_code=404, detail='Patient not found')\n"
   ]
  },
  {
   "cell_type": "code",
   "execution_count": 51,
   "id": "f0ae8c04",
   "metadata": {},
   "outputs": [],
   "source": [
    "@app.post('/create')\n",
    "def create_patient(patient: Patient):\n",
    "\n",
    "    # load existing data\n",
    "    data = load_data()\n",
    "\n",
    "    # check if the patient already exists\n",
    "    if patient.id in data:\n",
    "        raise HTTPException(status_code=400, detail='Patient already exists')\n",
    "\n",
    "    # new patient add to the database\n",
    "    data[patient.id] = patient.model_dump(exclude=['id'])\n",
    "\n",
    "    # save into the json file\n",
    "    save_data(data)\n",
    "\n",
    "    return JSONResponse(status_code=201, content={'message':'patient created successfully'})\n"
   ]
  },
  {
   "cell_type": "code",
   "execution_count": 54,
   "id": "00b96aa4",
   "metadata": {},
   "outputs": [
    {
     "name": "stderr",
     "output_type": "stream",
     "text": [
      "INFO:     Started server process [33428]\n",
      "INFO:     Waiting for application startup.\n",
      "INFO:     Application startup complete.\n",
      "INFO:     Uvicorn running on http://localhost:8900 (Press CTRL+C to quit)\n"
     ]
    },
    {
     "name": "stdout",
     "output_type": "stream",
     "text": [
      "INFO:     ::1:50963 - \"GET / HTTP/1.1\" 200 OK\n",
      "INFO:     ::1:50963 - \"GET /favicon.ico HTTP/1.1\" 404 Not Found\n",
      "INFO:     ::1:50964 - \"GET /docs HTTP/1.1\" 200 OK\n",
      "INFO:     ::1:50964 - \"GET /openapi.json HTTP/1.1\" 200 OK\n",
      "INFO:     ::1:50970 - \"GET / HTTP/1.1\" 200 OK\n",
      "INFO:     ::1:50990 - \"GET /patient/P001 HTTP/1.1\" 200 OK\n",
      "INFO:     ::1:51015 - \"POST /create HTTP/1.1\" 201 Created\n"
     ]
    },
    {
     "name": "stderr",
     "output_type": "stream",
     "text": [
      "INFO:     Shutting down\n",
      "INFO:     Waiting for application shutdown.\n",
      "INFO:     Application shutdown complete.\n",
      "INFO:     Finished server process [33428]\n"
     ]
    }
   ],
   "source": [
    "import uvicorn\n",
    "import nest_asyncio\n",
    "\n",
    "# This allows uvicorn to run in Jupyter\n",
    "nest_asyncio.apply()\n",
    "\n",
    "# Run the server\n",
    "uvicorn.run(app, host=\"localhost\", port=8900, reload=False)\n"
   ]
  },
  {
   "cell_type": "code",
   "execution_count": null,
   "id": "f26139ae",
   "metadata": {},
   "outputs": [],
   "source": [
    "async def main():\n",
    "    Database_URL = \"Log_of_Events.db\"\n",
    "    db = DatabaseManager(Database_URL)\n",
    "\n",
    "    # Create workflow instance\n",
    "    workflow_instance = Workflow(db=db)\n",
    "    app = await workflow_instance.Flow()\n",
    "    \n",
    "    # Dummy distress conversation transcript\n",
    "    distress_transcript = \"\"\"\n",
    "    Woman: \"Please stop following me, I don't know you\"\n",
    "    Unknown person: \"Come on, don't be like that\"\n",
    "    Woman: \"Don't touch me! Leave me alone!\"\n",
    "    Unknown person: \"Just talk to me for a minute\"\n",
    "    Woman: \"Help! Someone help me! Don't do this to me!\"\n",
    "    Woman: \"I will call the police if you don't stop\"\n",
    "    Unknown person: \"Nobody can hear you here\"\n",
    "    Woman: \"Please don't hurt me, I haven't done anything\"\n",
    "    \"\"\"\n",
    "    with open(\"P.wav\", \"rb\") as f:\n",
    "         audio_b64 = base64.b64encode(f.read()).decode()\n",
    "    \n",
    "    # Create input state with all required fields\n",
    "    input_state = WorkflowState(\n",
    "        location=Location(latitude=12.9716, longitude=77.5946),  # Bangalore coordinates\n",
    "        real_time=datetime.now(),  # 2:30 AM (night time)\n",
    "        TAudio=None,\n",
    "        threat_score=0,\n",
    "        consent=\"Yes\",\n",
    "        gesture=\"Yes\", \n",
    "        sudden_acc=\"Yes\",\n",
    "        message=\"Dangerous\",\n",
    "        audio_b64=audio_b64\n",
    "    )\n",
    "    \n",
    "    # Run the workflow\n",
    "    result = await app.ainvoke(input_state)\n",
    "\n",
    "    print(type(result))\n",
    "    print(result['analysis'])\n",
    "    print(result['analysis'].threat_level)#result['analysis'] returns an object in return \n",
    "\n",
    "# Run the workflow\n",
    "if __name__ == \"__main__\":\n",
    "    await main()\n"
   ]
  }
 ],
 "metadata": {
  "kernelspec": {
   "display_name": "venv",
   "language": "python",
   "name": "python3"
  },
  "language_info": {
   "codemirror_mode": {
    "name": "ipython",
    "version": 3
   },
   "file_extension": ".py",
   "mimetype": "text/x-python",
   "name": "python",
   "nbconvert_exporter": "python",
   "pygments_lexer": "ipython3",
   "version": "3.13.5"
  }
 },
 "nbformat": 4,
 "nbformat_minor": 5
}
