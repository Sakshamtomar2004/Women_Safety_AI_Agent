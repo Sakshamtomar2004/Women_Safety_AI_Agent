{
 "cells": [
  {
   "cell_type": "code",
   "execution_count": null,
   "id": "f3594eeb",
   "metadata": {},
   "outputs": [],
   "source": []
  },
  {
   "cell_type": "code",
   "execution_count": null,
   "id": "c686db2b",
   "metadata": {},
   "outputs": [
    {
     "name": "stdout",
     "output_type": "stream",
     "text": [
      "```json\n",
      "{\n",
      "    \"summary\": \"The audio is a public service announcement discussing the pervasive issue of sexual abuse. It highlights various forms of abuse, including sexual assault, manipulation, and non-consensual touching, and emphasizes that it can come from various individuals and in different settings. The speakers discuss the emotional and psychological impact of abuse, such as trauma, isolation, and feeling trapped. The overall message is to raise awareness, encourage victims to speak out, recognize red flags, and seek safety from dangerous and abusive situations.\",\n",
      "    \"threat_level\": 8.5,\n",
      "    \"distress_words\": [\n",
      "        \"sexual assault\",\n",
      "        \"sexual manipulation\",\n",
      "        \"predatory people\",\n",
      "        \"ongoing abuse\",\n",
      "        \"buried trauma\",\n",
      "        \"broken boundaries\",\n",
      "        \"touching without consent\",\n",
      "        \"sexual abuse\",\n",
      "        \"take advantage\",\n",
      "        \"unsafe situation\",\n",
      "        \"abusive behavior\",\n",
      "        \"isolated and trapped\",\n",
      "        \"dangerous situations\",\n",
      "        \"uncomfortable\",\n",
      "        \"get away\",\n",
      "        \"abusive people\",\n",
      "        \"red flags\"\n",
      "    ]\n",
      "}\n",
      "```\n"
     ]
    }
   ],
   "source": [
    "from langchain_google_genai import ChatGoogleGenerativeAI\n",
    "from langchain_core.messages import HumanMessage\n",
    "import base64\n",
    "\n",
    "# Encode audio\n",
    "with open(\"P.wav\", \"rb\") as f:\n",
    "    audio_b64 = base64.b64encode(f.read()).decode()\n",
    "\n",
    "llm = ChatGoogleGenerativeAI(model=\"gemini-2.5-flash\", temperature=0)\n",
    "message = HumanMessage(\n",
    "    content=[\n",
    "        {\"type\": \"text\", \"text\":template2},\n",
    "        {\"type\": \"audio\", \"source_type\": \"base64\", \"data\": audio_b64, \"mime_type\": \"audio/wav\"}\n",
    "    ]\n",
    ")\n",
    "response = llm.invoke([message])\n",
    "print(response.content)\n"
   ]
  },
  {
   "cell_type": "code",
   "execution_count": 10,
   "id": "79daf88c",
   "metadata": {},
   "outputs": [],
   "source": [
    "template2 = \"\"\"\n",
    "You are an AI Assistant who is specially designed to analyse the base64 format of audio files which is received from the phone of a woman who is not around the peak night time {real_time}. You have to generate a threat level between 4 to 10 based on the following transcript and since some relaxation would be there as this is not night time. Thus, threat level could be low but provide high level if you hear serious distress words that you think might lead something dangerous to the woman:\n",
    "\n",
    "\n",
    "Audio converted base64 file: {audiob64}\n",
    "\n",
    "\n",
    "Remember:\n",
    "Provide high rating if you found some distress sentences like \"don't touch me\", \"I will complain about you\", \"Please don't do this to me\"... and many other distress sentences.\n",
    "\n",
    "\n",
    "Return your response in the exact JSON format:\n",
    "{{\n",
    "    \"summary\": \"Provide a proper summary for the event\",\n",
    "    \"threat_level\": 4.0-8.0,\n",
    "    \"distress_words\": [\"list\", \"of\", \"distress\", \"words\"]\n",
    "}}\n",
    "\"\"\"\n"
   ]
  },
  {
   "cell_type": "code",
   "execution_count": null,
   "id": "eb54dca3",
   "metadata": {},
   "outputs": [],
   "source": []
  }
 ],
 "metadata": {
  "kernelspec": {
   "display_name": "venv",
   "language": "python",
   "name": "python3"
  },
  "language_info": {
   "codemirror_mode": {
    "name": "ipython",
    "version": 3
   },
   "file_extension": ".py",
   "mimetype": "text/x-python",
   "name": "python",
   "nbconvert_exporter": "python",
   "pygments_lexer": "ipython3",
   "version": "3.13.5"
  }
 },
 "nbformat": 4,
 "nbformat_minor": 5
}
