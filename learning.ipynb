{
 "cells": [
  {
   "cell_type": "code",
   "execution_count": 44,
   "id": "e9ec2116",
   "metadata": {},
   "outputs": [
    {
     "data": {
      "text/plain": [
       "True"
      ]
     },
     "execution_count": 44,
     "metadata": {},
     "output_type": "execute_result"
    }
   ],
   "source": [
    "import os\n",
    "import asyncio\n",
    "import threading\n",
    "import time\n",
    "import base64\n",
    "from datetime import datetime, timedelta\n",
    "from datetime import time\n",
    "from typing import List, Dict, Any, Optional\n",
    "import sqlite3\n",
    "from contextlib import asynccontextmanager\n",
    "import json\n",
    "from fastapi.responses import FileResponse\n",
    "\n",
    "\n",
    "from fastapi import FastAPI, HTTPException, BackgroundTasks, Depends, File, UploadFile, Form\n",
    "from fastapi.middleware.cors import CORSMiddleware\n",
    "from pydantic import BaseModel, Field, validator\n",
    "from dotenv import load_dotenv\n",
    "import uvicorn\n",
    "#from playsound import playsound\n",
    "import io\n",
    "\n",
    "# LangGraph and LangChain imports\n",
    "from langgraph.graph import StateGraph, END, START\n",
    "from langchain_core.messages import HumanMessage\n",
    "from langchain_groq import ChatGroq\n",
    "from fastapi.staticfiles import StaticFiles \n",
    "from typing import TypedDict,Annotated,Literal\n",
    "from langchain.prompts import PromptTemplate\n",
    "\n",
    "import nest_asyncio\n",
    "nest_asyncio.apply()\n",
    "\n",
    "# Load environment variables\n",
    "load_dotenv()"
   ]
  },
  {
   "cell_type": "code",
   "execution_count": 4,
   "id": "17036f62",
   "metadata": {},
   "outputs": [],
   "source": [
    "llm = ChatGroq(\n",
    "            model=\"openai/gpt-oss-120b\",  # Using available model\n",
    "            temperature=0.1,           \n",
    "        )"
   ]
  },
  {
   "cell_type": "code",
   "execution_count": 1,
   "id": "267eda37",
   "metadata": {},
   "outputs": [],
   "source": [
    "import json\n",
    "\n",
    "\n",
    "result={\n",
    "    \"summary\": \"A woman is being pursued and verbally threatened by an unknown person. She repeatedly pleads for the individual to stop, asks for help, threatens to call the police, and expresses fear of being harmed.\",\n",
    "    \"threat_level\": 9.0,\n",
    "    \"distress_words\": [\n",
    "        \"stop\",\n",
    "        \"don't touch me\",\n",
    "        \"help\",\n",
    "        \"someone help me\",\n",
    "        \"I will call the police\",\n",
    "        \"please don't hurt me\",\n",
    "        \"I haven't done anything\",\n",
    "        \"please stop following me\",\n",
    "        \"leave me alone\"\n",
    "    ]\n",
    "}"
   ]
  },
  {
   "cell_type": "code",
   "execution_count": 2,
   "id": "677cd953",
   "metadata": {},
   "outputs": [
    {
     "ename": "TypeError",
     "evalue": "the JSON object must be str, bytes or bytearray, not dict",
     "output_type": "error",
     "traceback": [
      "\u001b[31m---------------------------------------------------------------------------\u001b[39m",
      "\u001b[31mTypeError\u001b[39m                                 Traceback (most recent call last)",
      "\u001b[36mCell\u001b[39m\u001b[36m \u001b[39m\u001b[32mIn[2]\u001b[39m\u001b[32m, line 1\u001b[39m\n\u001b[32m----> \u001b[39m\u001b[32m1\u001b[39m result = \u001b[43mjson\u001b[49m\u001b[43m.\u001b[49m\u001b[43mloads\u001b[49m\u001b[43m(\u001b[49m\u001b[43mresult\u001b[49m\u001b[43m)\u001b[49m\n",
      "\u001b[36mFile \u001b[39m\u001b[32mC:\\Program Files\\WindowsApps\\PythonSoftwareFoundation.Python.3.13_3.13.1520.0_x64__qbz5n2kfra8p0\\Lib\\json\\__init__.py:339\u001b[39m, in \u001b[36mloads\u001b[39m\u001b[34m(s, cls, object_hook, parse_float, parse_int, parse_constant, object_pairs_hook, **kw)\u001b[39m\n\u001b[32m    337\u001b[39m \u001b[38;5;28;01melse\u001b[39;00m:\n\u001b[32m    338\u001b[39m     \u001b[38;5;28;01mif\u001b[39;00m \u001b[38;5;129;01mnot\u001b[39;00m \u001b[38;5;28misinstance\u001b[39m(s, (\u001b[38;5;28mbytes\u001b[39m, \u001b[38;5;28mbytearray\u001b[39m)):\n\u001b[32m--> \u001b[39m\u001b[32m339\u001b[39m         \u001b[38;5;28;01mraise\u001b[39;00m \u001b[38;5;167;01mTypeError\u001b[39;00m(\u001b[33mf\u001b[39m\u001b[33m'\u001b[39m\u001b[33mthe JSON object must be str, bytes or bytearray, \u001b[39m\u001b[33m'\u001b[39m\n\u001b[32m    340\u001b[39m                         \u001b[33mf\u001b[39m\u001b[33m'\u001b[39m\u001b[33mnot \u001b[39m\u001b[38;5;132;01m{\u001b[39;00ms.\u001b[34m__class__\u001b[39m.\u001b[34m__name__\u001b[39m\u001b[38;5;132;01m}\u001b[39;00m\u001b[33m'\u001b[39m)\n\u001b[32m    341\u001b[39m     s = s.decode(detect_encoding(s), \u001b[33m'\u001b[39m\u001b[33msurrogatepass\u001b[39m\u001b[33m'\u001b[39m)\n\u001b[32m    343\u001b[39m \u001b[38;5;28;01mif\u001b[39;00m (\u001b[38;5;28mcls\u001b[39m \u001b[38;5;129;01mis\u001b[39;00m \u001b[38;5;28;01mNone\u001b[39;00m \u001b[38;5;129;01mand\u001b[39;00m object_hook \u001b[38;5;129;01mis\u001b[39;00m \u001b[38;5;28;01mNone\u001b[39;00m \u001b[38;5;129;01mand\u001b[39;00m\n\u001b[32m    344\u001b[39m         parse_int \u001b[38;5;129;01mis\u001b[39;00m \u001b[38;5;28;01mNone\u001b[39;00m \u001b[38;5;129;01mand\u001b[39;00m parse_float \u001b[38;5;129;01mis\u001b[39;00m \u001b[38;5;28;01mNone\u001b[39;00m \u001b[38;5;129;01mand\u001b[39;00m\n\u001b[32m    345\u001b[39m         parse_constant \u001b[38;5;129;01mis\u001b[39;00m \u001b[38;5;28;01mNone\u001b[39;00m \u001b[38;5;129;01mand\u001b[39;00m object_pairs_hook \u001b[38;5;129;01mis\u001b[39;00m \u001b[38;5;28;01mNone\u001b[39;00m \u001b[38;5;129;01mand\u001b[39;00m \u001b[38;5;129;01mnot\u001b[39;00m kw):\n",
      "\u001b[31mTypeError\u001b[39m: the JSON object must be str, bytes or bytearray, not dict"
     ]
    }
   ],
   "source": [
    "result = json.loads(result)"
   ]
  },
  {
   "cell_type": "code",
   "execution_count": 22,
   "id": "9743e48d",
   "metadata": {},
   "outputs": [],
   "source": [
    "template1 = \"\"\"\n",
    "You are an AI Assistant who is specially designed to analyse the transcripted audio file which is received from the phone of a woman who might get harassed at {real_time}. You have to generate a threat level between 5 to 10 based on the following transcript. If this prompt is running which exclusively means that there is night time and user input already a dangerous place:\n",
    "\n",
    "Audio Transcript: {TAudio}\n",
    "\n",
    "Remember:\n",
    "Provide high rating if you found some distress sentences like \"don't touch me\", \"I will complain about you\", \"Please don't do this to me\"... and many other distress sentences.\n",
    "\n",
    "Return your response in the exact JSON format:\n",
    "{{\n",
    "    \"summary\": \"Provide a proper summary for the event\",\n",
    "    \"threat_level\": 5.0,\n",
    "    \"distress_words\": [\"list\", \"of\", \"distress\", \"words\"]\n",
    "}}\n",
    "\"\"\"\n",
    "prompt = PromptTemplate(\n",
    "            input_variables=[ 'TAudio','TAudio'],  # Fixed variable names\n",
    "            template=template1\n",
    "        )\n"
   ]
  },
  {
   "cell_type": "code",
   "execution_count": 23,
   "id": "cce41ac1",
   "metadata": {},
   "outputs": [],
   "source": [
    "chain=prompt|llm"
   ]
  },
  {
   "cell_type": "code",
   "execution_count": 24,
   "id": "b1a04ca9",
   "metadata": {},
   "outputs": [],
   "source": [
    "result=chain.invoke({ \"real_time\":\"2025-08-19T02:20:00Z\",\n",
    "                     \"TAudio\":\"\"\"{Woman: \"Please stop following me, I don't know you\"\n",
    "    Unknown person: \"Come on, don't be like that\"\n",
    "    Woman: \"Don't touch me! Leave me alone!\"\n",
    "    Unknown person: \"Just talk to me for a minute\"\n",
    "    Woman: \"Help! Someone help me! Don't do this to me!\"\n",
    "    Woman: \"I will call the police if you don't stop\"\n",
    "    Unknown person: \"Nobody can hear you here\"\n",
    "    Woman: \"Please don't hurt me, I haven't done anything\"}\"\"\"})"
   ]
  },
  {
   "cell_type": "code",
   "execution_count": null,
   "id": "c8cfa764",
   "metadata": {},
   "outputs": [
    {
     "data": {
      "text/plain": [
       "'{\\n    \"summary\": \"A woman is being pursued and verbally threatened by an unknown individual. She repeatedly pleads for the person to stop, asks for help, threatens to call the police, and expresses fear of being harmed.\",\\n    \"threat_level\": 9.0,\\n    \"distress_words\": [\\n        \"stop\",\\n        \"don\\'t touch me\",\\n        \"help\",\\n        \"someone help me\",\\n        \"I will call the police\",\\n        \"please don\\'t hurt me\",\\n        \"I haven\\'t done anything\"\\n    ]\\n}'"
      ]
     },
     "execution_count": 25,
     "metadata": {},
     "output_type": "execute_result"
    }
   ],
   "source": [
    "result.content#It returns a JSON String\n"
   ]
  },
  {
   "cell_type": "code",
   "execution_count": 27,
   "id": "32f4ed62",
   "metadata": {},
   "outputs": [],
   "source": [
    "result = json.loads(result.content)"
   ]
  },
  {
   "cell_type": "code",
   "execution_count": 28,
   "id": "5c98224c",
   "metadata": {},
   "outputs": [
    {
     "data": {
      "text/plain": [
       "{'summary': 'A woman is being pursued and verbally threatened by an unknown individual. She repeatedly pleads for the person to stop, asks for help, threatens to call the police, and expresses fear of being harmed.',\n",
       " 'threat_level': 9.0,\n",
       " 'distress_words': ['stop',\n",
       "  \"don't touch me\",\n",
       "  'help',\n",
       "  'someone help me',\n",
       "  'I will call the police',\n",
       "  \"please don't hurt me\",\n",
       "  \"I haven't done anything\"]}"
      ]
     },
     "execution_count": 28,
     "metadata": {},
     "output_type": "execute_result"
    }
   ],
   "source": [
    "result"
   ]
  },
  {
   "cell_type": "code",
   "execution_count": 29,
   "id": "fb20a3a6",
   "metadata": {},
   "outputs": [
    {
     "data": {
      "text/plain": [
       "'A woman is being pursued and verbally threatened by an unknown individual. She repeatedly pleads for the person to stop, asks for help, threatens to call the police, and expresses fear of being harmed.'"
      ]
     },
     "execution_count": 29,
     "metadata": {},
     "output_type": "execute_result"
    }
   ],
   "source": [
    "result['summary']"
   ]
  },
  {
   "cell_type": "code",
   "execution_count": null,
   "id": "88aaf066",
   "metadata": {},
   "outputs": [],
   "source": []
  },
  {
   "cell_type": "code",
   "execution_count": null,
   "id": "96c52475",
   "metadata": {},
   "outputs": [],
   "source": []
  },
  {
   "cell_type": "markdown",
   "id": "a690d2ee",
   "metadata": {},
   "source": [
    "Return function"
   ]
  },
  {
   "cell_type": "code",
   "execution_count": null,
   "id": "bbfe4bd7",
   "metadata": {},
   "outputs": [],
   "source": []
  },
  {
   "cell_type": "code",
   "execution_count": 30,
   "id": "ee2a9311",
   "metadata": {},
   "outputs": [
    {
     "name": "stderr",
     "output_type": "stream",
     "text": [
      "C:\\Users\\asus\\AppData\\Local\\Temp\\ipykernel_4100\\1250525760.py:6: PydanticDeprecatedSince20: Pydantic V1 style `@validator` validators are deprecated. You should migrate to Pydantic V2 style `@field_validator` validators, see the migration guide for more details. Deprecated in Pydantic V2.0 to be removed in V3.0. See Pydantic V2 Migration Guide at https://errors.pydantic.dev/2.11/migration/\n",
      "  @validator(\"latitude\", \"longitude\", pre=True)\n"
     ]
    }
   ],
   "source": [
    "class Location(BaseModel):\n",
    "    latitude:  float = Field(..., ge=-90.0, le=90.0, description=\"Degrees north or south of the equator\")\n",
    "    longitude: float = Field(..., ge=-180.0, le=180.0, description=\"Degrees east or west of prime meridian\")\n",
    "\n",
    "    # Optional: custom string pattern instead of float\n",
    "    @validator(\"latitude\", \"longitude\", pre=True)\n",
    "    def parse_str_to_float(cls, v):\n",
    "        # Allow passing \"12.345\" or 12.345\n",
    "        return float(v)\n"
   ]
  },
  {
   "cell_type": "code",
   "execution_count": 31,
   "id": "55f2b122",
   "metadata": {},
   "outputs": [],
   "source": [
    "class Summarization(BaseModel):\n",
    "    location:Location\n",
    "    summary:str\n",
    "    time:datetime\n",
    "    distress_words:List[str]\n",
    "    threat_level:float\n"
   ]
  },
  {
   "cell_type": "code",
   "execution_count": 58,
   "id": "c05ce794",
   "metadata": {},
   "outputs": [],
   "source": [
    "def experiment():\n",
    "    result={'summary': 'A woman is being pursued and verbally threatened by an unknown individual. She repeatedly pleads for the person to stop, asks for help, threatens to call the police, and expresses fear of being harmed.',\n",
    " 'threat_level': 9.0,\n",
    " 'distress_words': ['stop',\n",
    "  \"don't touch me\",\n",
    "  'help',\n",
    "  'someone help me',\n",
    "  'I will call the police',\n",
    "  \"please don't hurt me\",\n",
    "  \"I haven't done anything\"]}\n",
    "    raw = {\n",
    "        'location':{\n",
    "        \"latitude\":  \"12.9716\",\n",
    "        \"longitude\": \"77.5946\"\n",
    "    },\n",
    "         'time':  \"2025-08-18T19:29:00\",\n",
    "         'summary': result['summary'],\n",
    "         'threat_level': result['threat_level'],\n",
    "         'distress_words': result['distress_words']\n",
    "}\n",
    "    return Summarization(**raw)\n",
    "    "
   ]
  },
  {
   "cell_type": "code",
   "execution_count": 59,
   "id": "cbcf696b",
   "metadata": {},
   "outputs": [],
   "source": [
    "a=experiment()"
   ]
  },
  {
   "cell_type": "code",
   "execution_count": 47,
   "id": "cfcf5c58",
   "metadata": {},
   "outputs": [
    {
     "data": {
      "text/plain": [
       "Location(latitude=12.9716, longitude=77.5946)"
      ]
     },
     "execution_count": 47,
     "metadata": {},
     "output_type": "execute_result"
    }
   ],
   "source": [
    "a.location"
   ]
  },
  {
   "cell_type": "code",
   "execution_count": 48,
   "id": "d9d648ae",
   "metadata": {},
   "outputs": [
    {
     "data": {
      "text/plain": [
       "datetime.datetime(2025, 8, 18, 19, 29)"
      ]
     },
     "execution_count": 48,
     "metadata": {},
     "output_type": "execute_result"
    }
   ],
   "source": [
    "a.time"
   ]
  },
  {
   "cell_type": "code",
   "execution_count": 37,
   "id": "07a90566",
   "metadata": {},
   "outputs": [
    {
     "data": {
      "text/plain": [
       "['stop',\n",
       " \"don't touch me\",\n",
       " 'help',\n",
       " 'someone help me',\n",
       " 'I will call the police',\n",
       " \"please don't hurt me\",\n",
       " \"I haven't done anything\"]"
      ]
     },
     "execution_count": 37,
     "metadata": {},
     "output_type": "execute_result"
    }
   ],
   "source": [
    "a.distress_words"
   ]
  },
  {
   "cell_type": "code",
   "execution_count": 33,
   "id": "f15de70b",
   "metadata": {},
   "outputs": [
    {
     "ename": "IndentationError",
     "evalue": "unindent does not match any outer indentation level (<string>, line 11)",
     "output_type": "error",
     "traceback": [
      "  \u001b[36mFile \u001b[39m\u001b[32m<string>:11\u001b[39m\n\u001b[31m    \u001b[39m\u001b[31mreturn Summarization(**raw)\u001b[39m\n                               ^\n\u001b[31mIndentationError\u001b[39m\u001b[31m:\u001b[39m unindent does not match any outer indentation level\n"
     ]
    }
   ],
   "source": [
    "      raw = {\n",
    "        'location':{\n",
    "        \"latitude\":  \"12.9716\",\n",
    "        \"longitude\": \"77.5946\"\n",
    "    },\n",
    "         'time':  \"2025-08-18T19:29:00\",\n",
    "         'summary': result['summary'],\n",
    "         'threat_level': result['threat_level'],\n",
    "         'distress_words': result['distress_words']\n",
    "}\n",
    "    return Summarization(**raw)\n"
   ]
  },
  {
   "cell_type": "markdown",
   "id": "c0a6a8cf",
   "metadata": {},
   "source": [
    "Time"
   ]
  },
  {
   "cell_type": "code",
   "execution_count": 40,
   "id": "f12c0bd2",
   "metadata": {},
   "outputs": [],
   "source": [
    "night_start = time(0, 0)    # 00:00 (12:00 AM)\n",
    "night_end = time(4, 0)   "
   ]
  },
  {
   "cell_type": "code",
   "execution_count": 49,
   "id": "691a493f",
   "metadata": {},
   "outputs": [
    {
     "data": {
      "text/plain": [
       "datetime.time(4, 0)"
      ]
     },
     "execution_count": 49,
     "metadata": {},
     "output_type": "execute_result"
    }
   ],
   "source": [
    "night_end"
   ]
  },
  {
   "cell_type": "code",
   "execution_count": 41,
   "id": "c0d55139",
   "metadata": {},
   "outputs": [],
   "source": [
    "raw={\n",
    "'real_time':  \"2025-08-18T19:29:00\"}"
   ]
  },
  {
   "cell_type": "code",
   "execution_count": 42,
   "id": "f2161255",
   "metadata": {},
   "outputs": [
    {
     "data": {
      "text/plain": [
       "'2025-08-18T19:29:00'"
      ]
     },
     "execution_count": 42,
     "metadata": {},
     "output_type": "execute_result"
    }
   ],
   "source": [
    "raw['real_time']"
   ]
  },
  {
   "cell_type": "code",
   "execution_count": 46,
   "id": "0a20b703",
   "metadata": {},
   "outputs": [
    {
     "ename": "SyntaxError",
     "evalue": "invalid syntax (2174212619.py, line 1)",
     "output_type": "error",
     "traceback": [
      "  \u001b[36mCell\u001b[39m\u001b[36m \u001b[39m\u001b[32mIn[46]\u001b[39m\u001b[32m, line 1\u001b[39m\n\u001b[31m    \u001b[39m\u001b[31mraw['real_time']time()\u001b[39m\n                    ^\n\u001b[31mSyntaxError\u001b[39m\u001b[31m:\u001b[39m invalid syntax\n"
     ]
    }
   ],
   "source": [
    "raw['real_time']time()"
   ]
  },
  {
   "cell_type": "code",
   "execution_count": null,
   "id": "8e3ca539",
   "metadata": {},
   "outputs": [
    {
     "data": {
      "text/plain": [
       "datetime.time(0, 0)"
      ]
     },
     "execution_count": 39,
     "metadata": {},
     "output_type": "execute_result"
    }
   ],
   "source": [
    "if night_start <= raw['real_time'].time() <= night_end:\n",
    "            template = self.template1"
   ]
  },
  {
   "cell_type": "code",
   "execution_count": null,
   "id": "6226d31a",
   "metadata": {},
   "outputs": [
    {
     "name": "stdout",
     "output_type": "stream",
     "text": [
      "It's not nighttime\n"
     ]
    }
   ],
   "source": [
    "from datetime import datetime, time\n",
    "\n",
    "# Your time window\n",
    "night_start = time(0, 0)    # 00:00 (12:00 AM)\n",
    "night_end = time(4, 0)      # 04:00 AM\n",
    "\n",
    "# Your timestamp data\n",
    "raw = {'real_time': \"2025-08-18T19:29:00\"}\n",
    "\n",
    "# 1. Parse the string to datetime\n",
    "timestamp = datetime.fromisoformat(raw['real_time'])\n",
    "\n",
    "# 2. Extract just the time component\n",
    "current_time = timestamp.time()\n",
    "\n",
    "# 3. Now you can compare properly\n",
    "if night_start <= current_time <= night_end:\n",
    "    print(\"It's nighttime (between 12AM-4AM)\")\n",
    "else:\n",
    "    print(\"It's not nighttime\")"
   ]
  },
  {
   "cell_type": "code",
   "execution_count": null,
   "id": "3846bbba",
   "metadata": {},
   "outputs": [],
   "source": []
  },
  {
   "cell_type": "code",
   "execution_count": 55,
   "id": "3ac0dd08",
   "metadata": {},
   "outputs": [],
   "source": [
    "timestamp = datetime.fromisoformat(raw['real_time'])"
   ]
  },
  {
   "cell_type": "code",
   "execution_count": 57,
   "id": "7404fb38",
   "metadata": {},
   "outputs": [
    {
     "data": {
      "text/plain": [
       "datetime.time(19, 29)"
      ]
     },
     "execution_count": 57,
     "metadata": {},
     "output_type": "execute_result"
    }
   ],
   "source": [
    "timestamp.time()"
   ]
  },
  {
   "cell_type": "code",
   "execution_count": 54,
   "id": "793b4009",
   "metadata": {},
   "outputs": [
    {
     "data": {
      "text/plain": [
       "datetime.time(4, 0)"
      ]
     },
     "execution_count": 54,
     "metadata": {},
     "output_type": "execute_result"
    }
   ],
   "source": [
    "\n",
    "night_end\n"
   ]
  },
  {
   "cell_type": "code",
   "execution_count": 52,
   "id": "a5244533",
   "metadata": {},
   "outputs": [
    {
     "data": {
      "text/plain": [
       "datetime.time(0, 0)"
      ]
     },
     "execution_count": 52,
     "metadata": {},
     "output_type": "execute_result"
    }
   ],
   "source": [
    "night_start"
   ]
  },
  {
   "cell_type": "code",
   "execution_count": 53,
   "id": "1e2d5498",
   "metadata": {},
   "outputs": [
    {
     "data": {
      "text/plain": [
       "datetime.time(19, 29)"
      ]
     },
     "execution_count": 53,
     "metadata": {},
     "output_type": "execute_result"
    }
   ],
   "source": [
    "current_time"
   ]
  },
  {
   "cell_type": "code",
   "execution_count": null,
   "id": "d2b96cb8",
   "metadata": {},
   "outputs": [],
   "source": []
  }
 ],
 "metadata": {
  "kernelspec": {
   "display_name": "venv",
   "language": "python",
   "name": "python3"
  },
  "language_info": {
   "codemirror_mode": {
    "name": "ipython",
    "version": 3
   },
   "file_extension": ".py",
   "mimetype": "text/x-python",
   "name": "python",
   "nbconvert_exporter": "python",
   "pygments_lexer": "ipython3",
   "version": "3.13.5"
  }
 },
 "nbformat": 4,
 "nbformat_minor": 5
}
